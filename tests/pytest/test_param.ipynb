{
 "cells": [
  {
   "cell_type": "code",
   "execution_count": 1,
   "id": "38d3b1b7",
   "metadata": {},
   "outputs": [
    {
     "name": "stdout",
     "output_type": "stream",
     "text": [
      "0.36600000000000005\n",
      "0.41341373360368233\n",
      "True\n"
     ]
    }
   ],
   "source": [
    "import pykids\n",
    "\n",
    "json_data = '''{\n",
    "    \"model\": {\n",
    "        \"name\": \"NAD1D\",\n",
    "        \"nad1d_flag\": \"MORSE3C\",\n",
    "        \"N\": 1,\n",
    "        \"F\": 3,\n",
    "        \"occ\": 0,\n",
    "        \"tend\":\"8.0 fs\",\n",
    "    },\n",
    "    \"solver\": {\n",
    "        \"name\": \"Sampling\",\n",
    "        \"sampling_flag\": \"WignerHO+CMM\", \n",
    "        \"gamma\": 0.366,\n",
    "        \"dt\": \"0.01 fs\",\n",
    "        \"P\": 1,\n",
    "    },\n",
    "    \"result\": [\n",
    "        [\"K0\", \"K0\"],         \n",
    "        {\"rule\": \"KK<mij>(K0<mik>,K0<mkj>)\", \"save\": \"KK.dat\"},\n",
    "        {\"rule\": \"Ekin\", \"save\": \"Energy.dat\"},\n",
    "        {\"rule\": \"Epot\", \"save\": \"Energy.dat\"},\n",
    "        {\"rule\": \"Etot\", \"save\": \"Energy.dat\"},\n",
    "    ],\n",
    "}\n",
    "'''\n",
    "PM = pykids.lib.Param(json_data, pykids.lib.Param.fromString)\n",
    "print(PM.get_real(['solver.gamma']))\n",
    "dt = PM.get_real(['model.dt', 'solver.dt'], pykids.lib.phys.time_d)    \n",
    "print(dt)\n",
    "\n",
    "print(PM.has_key('model.nad1d_flag'))"
   ]
  },
  {
   "cell_type": "code",
   "execution_count": null,
   "id": "9d67226b",
   "metadata": {},
   "outputs": [],
   "source": []
  }
 ],
 "metadata": {
  "kernelspec": {
   "display_name": "Python 3 (ipykernel)",
   "language": "python",
   "name": "python3"
  },
  "language_info": {
   "codemirror_mode": {
    "name": "ipython",
    "version": 3
   },
   "file_extension": ".py",
   "mimetype": "text/x-python",
   "name": "python",
   "nbconvert_exporter": "python",
   "pygments_lexer": "ipython3",
   "version": "3.10.14"
  }
 },
 "nbformat": 4,
 "nbformat_minor": 5
}
