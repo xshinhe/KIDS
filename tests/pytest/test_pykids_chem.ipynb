{
 "cells": [
  {
   "cell_type": "code",
   "execution_count": 1,
   "id": "f19c241d",
   "metadata": {},
   "outputs": [
    {
     "name": "stdout",
     "output_type": "stream",
     "text": [
      "['KIDSException', '__author__', '__builtins__', '__cached__', '__doc__', '__file__', '__loader__', '__name__', '__package__', '__path__', '__spec__', '_kids', 'absolute_import', 'example', 'ext', 'lib', 'libpykids_v1', 'os', 'sys', 'version']\n",
      "['Context', 'DataSet', 'Kernel', 'Model', 'Param', 'Platform', 'Shape', 'Solver', 'Status', 'System', '__doc__', '__file__', '__loader__', '__name__', '__package__', '__spec__', 'chem', 'defaultModelFactory', 'defaultSolverFactory', 'phys', 'usePlatform']\n",
      "Elem <C>\n",
      "Elem <C>\n",
      "C\n",
      "12.01078\n"
     ]
    }
   ],
   "source": [
    "import pykids\n",
    "\n",
    "print(dir(pykids))\n",
    "print(dir(pykids.lib))\n",
    "\n",
    "print(pykids.lib.chem.elem.C)\n",
    "print(pykids.lib.chem.elem.ElementList[6])\n",
    "print(pykids.lib.chem.getElemLabel(6))\n",
    "print(pykids.lib.chem.getElemMass(6))\n"
   ]
  },
  {
   "cell_type": "code",
   "execution_count": null,
   "id": "13704f32",
   "metadata": {},
   "outputs": [],
   "source": []
  }
 ],
 "metadata": {
  "kernelspec": {
   "display_name": "Python 3 (ipykernel)",
   "language": "python",
   "name": "python3"
  },
  "language_info": {
   "codemirror_mode": {
    "name": "ipython",
    "version": 3
   },
   "file_extension": ".py",
   "mimetype": "text/x-python",
   "name": "python",
   "nbconvert_exporter": "python",
   "pygments_lexer": "ipython3",
   "version": "3.10.14"
  }
 },
 "nbformat": 4,
 "nbformat_minor": 5
}
