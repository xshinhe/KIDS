{
 "cells": [
  {
   "cell_type": "code",
   "execution_count": 7,
   "id": "d1434249",
   "metadata": {},
   "outputs": [
    {
     "name": "stdout",
     "output_type": "stream",
     "text": [
      "['KIDSException', '__author__', '__builtins__', '__cached__', '__doc__', '__file__', '__loader__', '__name__', '__package__', '__path__', '__spec__', '_kids', 'absolute_import', 'example', 'ext', 'lib', 'libpykids_v1', 'os', 'sys', 'version']\n",
      "['Context', 'DataSet', 'Kernel', 'Model', 'Param', 'Platform', 'Shape', 'Solver', 'Status', 'System', '__doc__', '__file__', '__loader__', '__name__', '__package__', '__spec__', 'chem', 'defaultModelFactory', 'defaultSolverFactory', 'phys', 'usePlatform']\n",
      "1.000000e+00 <1, 0, 0, 0, 0, 0, 0, > 1.000000e+00 <1, -1, 1, 0, 0, 0, 0, > 1.000000e+00 <2, -2, 1, 0, 0, 0, 0, > 1.000000e+00 <0, 1, 0, 0, 0, 0, 0, >\n",
      "1.000000e+00 <2, -1, 1, 0, 0, 0, 0, >\n",
      "1.000000e+00 <0, 0, 0, 0, 0, 0, 0, >\n",
      "6.62607004081e-34\n",
      "1.05457180013e-34\n"
     ]
    }
   ],
   "source": [
    "import pykids\n",
    "\n",
    "print(dir(pykids))\n",
    "print(dir(pykids.lib))\n",
    "\n",
    "x = pykids.lib.phys.uval(pykids.lib.phys.length_d, 1)\n",
    "p = pykids.lib.phys.uval(pykids.lib.phys.momentum_d, 1)\n",
    "t = pykids.lib.phys.uval(pykids.lib.phys.time_d, 1)\n",
    "E = pykids.lib.phys.uval(pykids.lib.phys.energy_d, 1)\n",
    "\n",
    "print(x, p, E, t)\n",
    "print(x*p)\n",
    "print(x*p/(E*t))\n",
    "\n",
    "print(pykids.lib.phys.si.h)\n",
    "print(pykids.lib.phys.si.hb)\n"
   ]
  },
  {
   "cell_type": "code",
   "execution_count": null,
   "id": "f771a58a",
   "metadata": {},
   "outputs": [],
   "source": []
  }
 ],
 "metadata": {
  "kernelspec": {
   "display_name": "Python 3 (ipykernel)",
   "language": "python",
   "name": "python3"
  },
  "language_info": {
   "codemirror_mode": {
    "name": "ipython",
    "version": 3
   },
   "file_extension": ".py",
   "mimetype": "text/x-python",
   "name": "python",
   "nbconvert_exporter": "python",
   "pygments_lexer": "ipython3",
   "version": "3.10.14"
  }
 },
 "nbformat": 4,
 "nbformat_minor": 5
}
